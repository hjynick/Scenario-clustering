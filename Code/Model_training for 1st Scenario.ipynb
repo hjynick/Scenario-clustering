{
 "cells": [
  {
   "cell_type": "code",
   "execution_count": 1,
   "metadata": {},
   "outputs": [],
   "source": [
    "from sklearn.manifold import TSNE\n",
    "import numpy as np\n",
    "import matplotlib.pyplot as plt"
   ]
  },
  {
   "cell_type": "code",
   "execution_count": 2,
   "metadata": {},
   "outputs": [
    {
     "name": "stdout",
     "output_type": "stream",
     "text": [
      "1 state scenario matrics has the shape: (34948, 7)\n",
      "2 state scenario matrics has the shape: (34878, 14)\n",
      "3 state scenario matrics has the shape: (34808, 21)\n",
      "4 state scenario matrics has the shape: (34738, 28)\n"
     ]
    }
   ],
   "source": [
    "#load the data matrics\n",
    "matrix_1st=np.loadtxt('matrix61.txt')\n",
    "print('1 state scenario matrics has the shape:',matrix_1st.shape)\n",
    "matrix_2st=np.loadtxt('matrix62.txt')\n",
    "print('2 state scenario matrics has the shape:',matrix_2st.shape)\n",
    "matrix_3st=np.loadtxt('matrix63.txt')\n",
    "print('3 state scenario matrics has the shape:',matrix_3st.shape)\n",
    "matrix_4st=np.loadtxt('matrix64.txt')\n",
    "print('4 state scenario matrics has the shape:',matrix_4st.shape)\n"
   ]
  },
  {
   "cell_type": "code",
   "execution_count": 3,
   "metadata": {},
   "outputs": [
    {
     "name": "stdout",
     "output_type": "stream",
     "text": [
      "(2340, 7)\n",
      "(10205, 14)\n",
      "(15420, 21)\n",
      "(20022, 28)\n"
     ]
    }
   ],
   "source": [
    "unique1 = np.unique(matrix_1st,axis =0)\n",
    "print(unique1.shape)\n",
    "unique2 = np.unique(matrix_2st,axis =0)\n",
    "print(unique2.shape)\n",
    "unique3 = np.unique(matrix_3st,axis =0)\n",
    "print(unique3.shape)\n",
    "unique4 = np.unique(matrix_4st,axis =0)\n",
    "print(unique4.shape)"
   ]
  },
  {
   "cell_type": "markdown",
   "metadata": {},
   "source": [
    "## Max-Min Normalization\n",
    "$$\n",
    "x^{\\prime}=\\frac{x-\\min (x)}{\\max (x)-\\min (x)}\n",
    "$$"
   ]
  },
  {
   "cell_type": "code",
   "execution_count": 4,
   "metadata": {},
   "outputs": [],
   "source": [
    "from sklearn.preprocessing import MinMaxScaler\n",
    "\n",
    "scaler1 = MinMaxScaler()\n",
    "scaler1.fit(matrix_1st)\n",
    "normal1 = scaler1.transform(matrix_1st)\n",
    "\n",
    "scaler2 = MinMaxScaler()\n",
    "scaler2.fit(matrix_2st)\n",
    "normal2 = scaler2.transform(matrix_2st)\n",
    "\n",
    "scaler3 = MinMaxScaler()\n",
    "scaler3.fit(matrix_3st)\n",
    "normal3 = scaler3.transform(matrix_3st)\n",
    "\n",
    "scaler4 = MinMaxScaler()\n",
    "scaler4.fit(matrix_4st)\n",
    "normal4 = scaler4.transform(matrix_4st)"
   ]
  },
  {
   "cell_type": "code",
   "execution_count": 5,
   "metadata": {},
   "outputs": [
    {
     "data": {
      "text/plain": [
       "array([[0.11764706, 0.22222222, 0.        , ..., 0.        , 0.        ,\n",
       "        0.16666667],\n",
       "       [0.17647059, 0.22222222, 0.        , ..., 0.        , 0.        ,\n",
       "        0.33333333],\n",
       "       [0.17647059, 0.22222222, 0.        , ..., 0.        , 0.07692308,\n",
       "        0.25      ],\n",
       "       ...,\n",
       "       [0.29411765, 0.33333333, 0.5       , ..., 0.        , 0.07692308,\n",
       "        0.33333333],\n",
       "       [0.35294118, 0.33333333, 0.5       , ..., 0.        , 0.15384615,\n",
       "        0.33333333],\n",
       "       [0.35294118, 0.33333333, 0.5       , ..., 0.        , 0.23076923,\n",
       "        0.25      ]])"
      ]
     },
     "execution_count": 5,
     "metadata": {},
     "output_type": "execute_result"
    }
   ],
   "source": [
    "normal1"
   ]
  },
  {
   "cell_type": "markdown",
   "metadata": {},
   "source": [
    "## Model training using Loop driving data\n",
    "\n",
    "![loop](..\\Masterarbeit\\pic\\kreisfahrt.jpg)"
   ]
  },
  {
   "cell_type": "code",
   "execution_count": 6,
   "metadata": {},
   "outputs": [
    {
     "data": {
      "text/plain": [
       "array([[0.125     , 0.17647059, 0.22222222, ..., 0.        , 0.        ,\n",
       "        0.33333333],\n",
       "       [0.1875    , 0.17647059, 0.22222222, ..., 0.        , 0.07692308,\n",
       "        0.25      ],\n",
       "       [0.1875    , 0.17647059, 0.22222222, ..., 0.07692308, 0.        ,\n",
       "        0.25      ],\n",
       "       ...,\n",
       "       [0.25      , 0.29411765, 0.33333333, ..., 0.        , 0.07692308,\n",
       "        0.33333333],\n",
       "       [0.3125    , 0.35294118, 0.33333333, ..., 0.        , 0.15384615,\n",
       "        0.33333333],\n",
       "       [0.375     , 0.35294118, 0.33333333, ..., 0.        , 0.23076923,\n",
       "        0.25      ]])"
      ]
     },
     "execution_count": 6,
     "metadata": {},
     "output_type": "execute_result"
    }
   ],
   "source": [
    "normal2"
   ]
  },
  {
   "cell_type": "code",
   "execution_count": 7,
   "metadata": {},
   "outputs": [],
   "source": [
    "n_input_1 = 7\n",
    "n_input_2 = 14\n",
    "n_input_3 = 21\n",
    "n_input_4 = 28"
   ]
  },
  {
   "cell_type": "code",
   "execution_count": 8,
   "metadata": {},
   "outputs": [],
   "source": [
    "# Labeling data\n",
    "# from pyod.models.iforest import IForest\n",
    "# from sklearn.manifold import TSNE\n",
    "# iforest2 = IForest()\n",
    "# iforest2.fit(unique2)\n",
    "\n",
    "# tsne = TSNE(n_components = 2)\n",
    "\n",
    "# #visualization the labeled data in 2D\n",
    "# X2 = tsne.fit_transform(unique2)\n",
    "# plt.figure(figsize=(20, 20))\n",
    "# plt.scatter(X2[:,0], X2[:,1], c = iforest2.labels_)\n",
    "# plt.show()"
   ]
  },
  {
   "cell_type": "code",
   "execution_count": 9,
   "metadata": {},
   "outputs": [],
   "source": [
    "import tensorflow as tf\n",
    "import numpy as np\n",
    "import matplotlib.pyplot as plt\n",
    "from sklearn.model_selection import train_test_split\n",
    "\n",
    "# Parameters\n",
    "learning_rate = 0.01\n",
    "training_epochs = 100\n",
    "batch_size = 256    # the batch size can not exceed the size of the data."
   ]
  },
  {
   "cell_type": "code",
   "execution_count": 10,
   "metadata": {},
   "outputs": [],
   "source": [
    "# Building the encoder\n",
    "def encoder(x,weights,biases):\n",
    "    # Encoder Hidden layer with sigmoid activation #1\n",
    "    layer_1 = tf.nn.sigmoid(tf.add(tf.matmul(x, weights['encoder_h1']),\n",
    "                                   biases['encoder_b1']))\n",
    "    # Decoder Hidden layer with sigmoid activation #2\n",
    "    layer_2 = tf.nn.sigmoid(tf.add(tf.matmul(layer_1, weights['encoder_h2']),\n",
    "                                   biases['encoder_b2']))\n",
    "    return layer_2"
   ]
  },
  {
   "cell_type": "code",
   "execution_count": 11,
   "metadata": {},
   "outputs": [],
   "source": [
    "# Building the decoder\n",
    "def decoder(x,weights,biases):\n",
    "    # Encoder Hidden layer with sigmoid activation #1\n",
    "    layer_1 = tf.nn.sigmoid(tf.add(tf.matmul(x, weights['decoder_h1']),\n",
    "                                   biases['decoder_b1']))\n",
    "    # Decoder Hidden layer with sigmoid activation #2\n",
    "    layer_2 = tf.nn.sigmoid(tf.add(tf.matmul(layer_1, weights['decoder_h2']),\n",
    "                                   biases['decoder_b2']))\n",
    "    return layer_2"
   ]
  },
  {
   "cell_type": "code",
   "execution_count": 12,
   "metadata": {},
   "outputs": [],
   "source": [
    "tf.reset_default_graph()"
   ]
  },
  {
   "cell_type": "code",
   "execution_count": 13,
   "metadata": {},
   "outputs": [],
   "source": [
    "from sklearn.utils import shuffle\n",
    "def one_class_learning(dataset,testset):\n",
    "    # Network Parameters\n",
    "    n_input = 7 # training different model using different input size here...\n",
    "    n_hidden_1 = int(n_input/2)\n",
    "    n_hidden_2 = int(n_input/2)\n",
    "    # tf Graph input (only pictures)\n",
    "    X = tf.placeholder(\"float\", [None, n_input], name = 'input_x')\n",
    "\n",
    "    weights = {\n",
    "        'encoder_h1': tf.Variable(tf.random_normal([n_input, n_hidden_1])),\n",
    "        'encoder_h2': tf.Variable(tf.random_normal([n_hidden_1, n_hidden_2])),\n",
    "        'decoder_h1': tf.Variable(tf.random_normal([n_hidden_2, n_hidden_1])),\n",
    "        'decoder_h2': tf.Variable(tf.random_normal([n_hidden_1, n_input])),\n",
    "    }\n",
    "    biases = {\n",
    "        'encoder_b1': tf.Variable(tf.random_normal([n_hidden_1])),\n",
    "        'encoder_b2': tf.Variable(tf.random_normal([n_hidden_2])),\n",
    "        'decoder_b1': tf.Variable(tf.random_normal([n_hidden_1])),\n",
    "        'decoder_b2': tf.Variable(tf.random_normal([n_input])),\n",
    "    }\n",
    "    # Construct model\n",
    "    encoder_op = encoder(X,weights,biases)\n",
    "    decoder_op = decoder(encoder_op,weights,biases)\n",
    "    # Prediction\n",
    "    y_pred = decoder_op\n",
    "    # Targets (Labels) are the input data.\n",
    "    y_true = X\n",
    "    # Define loss and optimizer, minimize the squared error\n",
    "    cost = tf.reduce_mean(tf.pow(y_true - y_pred, 2))\n",
    "    optimizer = tf.train.RMSPropOptimizer(learning_rate).minimize(cost)\n",
    "\n",
    "    # Initializing the variables\n",
    "    init = tf.global_variables_initializer()\n",
    "    lost = []\n",
    "    \n",
    "    # Launch the graph\n",
    "    with tf.Session() as sess2:\n",
    "        sess2.run(init)\n",
    "        total_batch = int(len(dataset['data'])/batch_size)\n",
    "        dataset = shuffle(dataset['data'])\n",
    "        \n",
    "        # Training cycle\n",
    "        for epoch in range(training_epochs):\n",
    "            \n",
    "            # Loop over all batches\n",
    "            for i in range(total_batch):\n",
    "                batch_xs = dataset[i*batch_size:(i+1)*batch_size]\n",
    "                #batch_ys = dataset['label'][i*batch_size:(i+1)*batch_size]\n",
    "                \n",
    "                # Run optimization op (backprop) and cost op (to get loss value)\n",
    "                _, co = sess2.run([optimizer, cost], feed_dict={X: batch_xs})\n",
    "                \n",
    "            # Display logs per epoch step\n",
    "            print(\"Epoch:\", '%04d' % (epoch+1),\"cost=\", \"{:.9f}\".format(co))\n",
    "            lost.append(co)\n",
    "\n",
    "        encode_decode = sess2.run(decoder_op, feed_dict={X: testset['data']})\n",
    "        error = sess2.run(tf.reduce_mean(tf.pow(testset['data'] - encode_decode, 2)))\n",
    "        f, a = plt.subplots(2,2, figsize=(14, 14))\n",
    "        \n",
    "        for i in range(2):\n",
    "\n",
    "            print(testset['label'][i],sess2.run(tf.reduce_mean(tf.pow(testset['data'][i] - encode_decode[i], 2))))\n",
    "            a[0][i].matshow(testset['data'][i:i+10])\n",
    "            a[1][i].matshow(encode_decode[i:i+10])\n",
    "        f.colorbar(a[0][1].matshow(testset['data'][i:i+10]))    \n",
    "        f.show()\n",
    "        \n",
    "        saver = tf.train.Saver()\n",
    "        tf.add_to_collection('pred_network', y_pred)\n",
    "        tf.add_to_collection('AE_input',X)\n",
    "        saver.save(sess2,'../Masterarbeit/model_1st/model_1st')\n",
    "        print(\"Model saved\")\n",
    "        \n",
    "#             self supervised learning\n",
    "#             for j in range(len(testset['data'])):\n",
    "#             error.append(sess.run(tf.reduce_mean(tf.pow(testset['data'][j] - encode_decode[j], 2))))\n",
    "            \n",
    "\n",
    "    return lost, error\n",
    "#     examples_to_show = 14\n",
    "#     f, a = plt.subplots(2, examples_to_show, figsize=(examples_to_show, 2))\n",
    "#     for i in range(examples_to_show):\n",
    "#         print(testset['label'][i],sess.run(tf.reduce_mean(tf.pow(testset['data'][i] - encode_decode[i], 2))))\n",
    "#         a[0][i].imshow(np.reshape(testset['data'][i], (28, 28)))\n",
    "#         a[1][i].imshow(np.reshape(encode_decode[i], (28, 28)))\n",
    "#     f.show()\n",
    "#     plt.draw()\n",
    "#     plt.waitforbuttonpress()\n",
    "#         wf = open(filename,'a+')\n",
    "#         for i in range(len(encode_decode)):\n",
    "#             wf.write(str(one_class_label)+','+str(testset['label'][i])+','+str(sess.run(tf.reduce_mean(tf.pow(testset['data'][i] - encode_decode[i], 2))))+'\\n')\n",
    "#             if i % 500 == 0:\n",
    "#                 print(i)\n",
    "#         wf.close()"
   ]
  },
  {
   "cell_type": "code",
   "execution_count": 14,
   "metadata": {},
   "outputs": [],
   "source": [
    "def train(X_train,X_test):\n",
    "    trainset = {'data':X_train,'label':np.zeros(len(X_train))}\n",
    "    testset  = {'data':X_test,'label':np.zeros(len(X_test))}\n",
    "    lost,error = one_class_learning(trainset,testset)\n",
    "    return lost,error"
   ]
  },
  {
   "cell_type": "markdown",
   "metadata": {},
   "source": [
    "## 1 State Scenario"
   ]
  },
  {
   "cell_type": "code",
   "execution_count": 15,
   "metadata": {
    "scrolled": false
   },
   "outputs": [
    {
     "name": "stdout",
     "output_type": "stream",
     "text": [
      "WARNING:tensorflow:From c:\\users\\alienware\\anaconda3\\envs\\itiv\\lib\\site-packages\\tensorflow\\python\\framework\\op_def_library.py:263: colocate_with (from tensorflow.python.framework.ops) is deprecated and will be removed in a future version.\n",
      "Instructions for updating:\n",
      "Colocations handled automatically by placer.\n",
      "Epoch: 0001 cost= 0.032970306\n",
      "Epoch: 0002 cost= 0.025510073\n",
      "Epoch: 0003 cost= 0.022916729\n",
      "Epoch: 0004 cost= 0.020226201\n",
      "Epoch: 0005 cost= 0.020081520\n",
      "Epoch: 0006 cost= 0.019350890\n",
      "Epoch: 0007 cost= 0.018001411\n",
      "Epoch: 0008 cost= 0.017568279\n",
      "Epoch: 0009 cost= 0.016983006\n",
      "Epoch: 0010 cost= 0.014103138\n",
      "Epoch: 0011 cost= 0.012048806\n",
      "Epoch: 0012 cost= 0.010858576\n",
      "Epoch: 0013 cost= 0.010106964\n",
      "Epoch: 0014 cost= 0.009686819\n",
      "Epoch: 0015 cost= 0.009422570\n",
      "Epoch: 0016 cost= 0.009233945\n",
      "Epoch: 0017 cost= 0.009081041\n",
      "Epoch: 0018 cost= 0.008955583\n",
      "Epoch: 0019 cost= 0.008845464\n",
      "Epoch: 0020 cost= 0.008746265\n",
      "Epoch: 0021 cost= 0.008638353\n",
      "Epoch: 0022 cost= 0.008511976\n",
      "Epoch: 0023 cost= 0.008341281\n",
      "Epoch: 0024 cost= 0.008220078\n",
      "Epoch: 0025 cost= 0.008004365\n",
      "Epoch: 0026 cost= 0.007421921\n",
      "Epoch: 0027 cost= 0.006718923\n",
      "Epoch: 0028 cost= 0.006146177\n",
      "Epoch: 0029 cost= 0.005734440\n",
      "Epoch: 0030 cost= 0.005397863\n",
      "Epoch: 0031 cost= 0.005103653\n",
      "Epoch: 0032 cost= 0.004865457\n",
      "Epoch: 0033 cost= 0.004676699\n",
      "Epoch: 0034 cost= 0.004533738\n",
      "Epoch: 0035 cost= 0.004364169\n",
      "Epoch: 0036 cost= 0.004257797\n",
      "Epoch: 0037 cost= 0.004157670\n",
      "Epoch: 0038 cost= 0.004084233\n",
      "Epoch: 0039 cost= 0.004025583\n",
      "Epoch: 0040 cost= 0.003979465\n",
      "Epoch: 0041 cost= 0.003946786\n",
      "Epoch: 0042 cost= 0.003924694\n",
      "Epoch: 0043 cost= 0.003876943\n",
      "Epoch: 0044 cost= 0.004065000\n",
      "Epoch: 0045 cost= 0.003827605\n",
      "Epoch: 0046 cost= 0.003835409\n",
      "Epoch: 0047 cost= 0.003814919\n",
      "Epoch: 0048 cost= 0.003796012\n",
      "Epoch: 0049 cost= 0.003779595\n",
      "Epoch: 0050 cost= 0.003764511\n",
      "Epoch: 0051 cost= 0.003749475\n",
      "Epoch: 0052 cost= 0.003734389\n",
      "Epoch: 0053 cost= 0.003721248\n",
      "Epoch: 0054 cost= 0.003708739\n",
      "Epoch: 0055 cost= 0.003696302\n",
      "Epoch: 0056 cost= 0.003684488\n",
      "Epoch: 0057 cost= 0.003673020\n",
      "Epoch: 0058 cost= 0.003661569\n",
      "Epoch: 0059 cost= 0.003655917\n",
      "Epoch: 0060 cost= 0.003596128\n",
      "Epoch: 0061 cost= 0.003643840\n",
      "Epoch: 0062 cost= 0.003577614\n",
      "Epoch: 0063 cost= 0.003579115\n",
      "Epoch: 0064 cost= 0.003580631\n",
      "Epoch: 0065 cost= 0.003571409\n",
      "Epoch: 0066 cost= 0.003557225\n",
      "Epoch: 0067 cost= 0.003540513\n",
      "Epoch: 0068 cost= 0.003524951\n",
      "Epoch: 0069 cost= 0.003510382\n",
      "Epoch: 0070 cost= 0.003497575\n",
      "Epoch: 0071 cost= 0.003485823\n",
      "Epoch: 0072 cost= 0.003541036\n",
      "Epoch: 0073 cost= 0.003451543\n",
      "Epoch: 0074 cost= 0.003529890\n",
      "Epoch: 0075 cost= 0.003533846\n",
      "Epoch: 0076 cost= 0.003524629\n",
      "Epoch: 0077 cost= 0.003517814\n",
      "Epoch: 0078 cost= 0.003513781\n",
      "Epoch: 0079 cost= 0.003513769\n",
      "Epoch: 0080 cost= 0.003497199\n",
      "Epoch: 0081 cost= 0.003493387\n",
      "Epoch: 0082 cost= 0.003491235\n",
      "Epoch: 0083 cost= 0.003481957\n",
      "Epoch: 0084 cost= 0.003485690\n",
      "Epoch: 0085 cost= 0.003496697\n",
      "Epoch: 0086 cost= 0.003493384\n",
      "Epoch: 0087 cost= 0.003487841\n",
      "Epoch: 0088 cost= 0.003481014\n",
      "Epoch: 0089 cost= 0.003472872\n",
      "Epoch: 0090 cost= 0.003463313\n",
      "Epoch: 0091 cost= 0.003456444\n",
      "Epoch: 0092 cost= 0.003454582\n",
      "Epoch: 0093 cost= 0.003450066\n",
      "Epoch: 0094 cost= 0.003428093\n",
      "Epoch: 0095 cost= 0.003457260\n",
      "Epoch: 0096 cost= 0.003381832\n",
      "Epoch: 0097 cost= 0.003385007\n",
      "Epoch: 0098 cost= 0.003436392\n",
      "Epoch: 0099 cost= 0.003437577\n",
      "Epoch: 0100 cost= 0.003410876\n",
      "0.0 0.0015692722629212245\n",
      "0.0 0.003587696563420047\n"
     ]
    },
    {
     "name": "stderr",
     "output_type": "stream",
     "text": [
      "c:\\users\\alienware\\anaconda3\\envs\\itiv\\lib\\site-packages\\matplotlib\\figure.py:445: UserWarning: Matplotlib is currently using module://ipykernel.pylab.backend_inline, which is a non-GUI backend, so cannot show the figure.\n",
      "  % get_backend())\n"
     ]
    },
    {
     "name": "stdout",
     "output_type": "stream",
     "text": [
      "Model saved\n"
     ]
    },
    {
     "data": {
      "image/png": "[encoded data removed]",
      "text/plain": [
       "<Figure size 1008x1008 with 5 Axes>"
      ]
     },
     "metadata": {
      "needs_background": "light"
     },
     "output_type": "display_data"
    }
   ],
   "source": [
    "X_train1, X_test1 = train_test_split(normal1, test_size=0.1, random_state=39)\n",
    "lost1, error1 = train(X_train1, X_test1)"
   ]
  },
  {
   "cell_type": "code",
   "execution_count": 16,
   "metadata": {},
   "outputs": [
    {
     "name": "stdout",
     "output_type": "stream",
     "text": [
      "the training error for 1 state is: 0.0034389291624288827\n"
     ]
    }
   ],
   "source": [
    "print('the training error for 1 state is:', error1)"
   ]
  },
  {
   "cell_type": "code",
   "execution_count": null,
   "metadata": {},
   "outputs": [],
   "source": []
  }
 ],
 "metadata": {
  "kernelspec": {
   "display_name": "Python 3",
   "language": "python",
   "name": "python3"
  },
  "language_info": {
   "codemirror_mode": {
    "name": "ipython",
    "version": 3
   },
   "file_extension": ".py",
   "mimetype": "text/x-python",
   "name": "python",
   "nbconvert_exporter": "python",
   "pygments_lexer": "ipython3",
   "version": "3.6.8"
  }
 },
 "nbformat": 4,
 "nbformat_minor": 2
}
