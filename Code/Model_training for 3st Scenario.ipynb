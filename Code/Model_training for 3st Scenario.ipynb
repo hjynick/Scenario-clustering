{
 "cells": [
  {
   "cell_type": "code",
   "execution_count": 1,
   "metadata": {},
   "outputs": [],
   "source": [
    "from sklearn.manifold import TSNE\n",
    "import numpy as np\n",
    "import matplotlib.pyplot as plt"
   ]
  },
  {
   "cell_type": "code",
   "execution_count": 2,
   "metadata": {},
   "outputs": [
    {
     "name": "stdout",
     "output_type": "stream",
     "text": [
      "3 state scenario matrics has the shape: (34808, 21)\n"
     ]
    }
   ],
   "source": [
    "#load the data matrics\n",
    "matrix_3st=np.loadtxt('matrix63.txt')\n",
    "print('3 state scenario matrics has the shape:',matrix_3st.shape)"
   ]
  },
  {
   "cell_type": "code",
   "execution_count": 3,
   "metadata": {},
   "outputs": [
    {
     "name": "stdout",
     "output_type": "stream",
     "text": [
      "(15420, 21)\n"
     ]
    }
   ],
   "source": [
    "unique3 = np.unique(matrix_3st,axis =0)\n",
    "print(unique3.shape)"
   ]
  },
  {
   "cell_type": "markdown",
   "metadata": {},
   "source": [
    "## Max-Min Normalization\n",
    "$$\n",
    "x^{\\prime}=\\frac{x-\\min (x)}{\\max (x)-\\min (x)}\n",
    "$$"
   ]
  },
  {
   "cell_type": "code",
   "execution_count": 4,
   "metadata": {},
   "outputs": [],
   "source": [
    "from sklearn.preprocessing import MinMaxScaler\n",
    "\n",
    "scaler3 = MinMaxScaler()\n",
    "scaler3.fit(unique3)\n",
    "normal3 = scaler3.transform(unique3)\n"
   ]
  },
  {
   "cell_type": "code",
   "execution_count": 5,
   "metadata": {},
   "outputs": [
    {
     "data": {
      "text/plain": [
       "array([[0.        , 0.0625    , 0.05882353, ..., 0.        , 0.07692308,\n",
       "        0.        ],\n",
       "       [0.        , 0.0625    , 0.05882353, ..., 0.        , 0.        ,\n",
       "        0.08333333],\n",
       "       [0.        , 0.0625    , 0.05882353, ..., 0.        , 0.        ,\n",
       "        0.08333333],\n",
       "       ...,\n",
       "       [0.9375    , 1.        , 0.94117647, ..., 0.        , 0.76923077,\n",
       "        0.41666667],\n",
       "       [1.        , 1.        , 0.94117647, ..., 0.        , 0.76923077,\n",
       "        0.41666667],\n",
       "       [1.        , 1.        , 1.        , ..., 0.        , 0.92307692,\n",
       "        0.41666667]])"
      ]
     },
     "execution_count": 5,
     "metadata": {},
     "output_type": "execute_result"
    }
   ],
   "source": [
    "normal3"
   ]
  },
  {
   "cell_type": "markdown",
   "metadata": {},
   "source": [
    "### two approach \n",
    "#### handcraft labeling\n",
    "- visual observation through carmaker\n",
    "- choose the anomaly scenario \n",
    "- label the anomaly scenario\n",
    "\n",
    "#### clustering labeling"
   ]
  },
  {
   "cell_type": "markdown",
   "metadata": {},
   "source": [
    "## Model training using Loop driving data\n",
    "\n",
    "![loop](..\\Masterarbeit\\pic\\kreisfahrt.jpg)"
   ]
  },
  {
   "cell_type": "code",
   "execution_count": 6,
   "metadata": {},
   "outputs": [],
   "source": [
    "n_input_1 = 7\n",
    "n_input_2 = 14\n",
    "n_input_3 = 21\n",
    "n_input_4 = 28"
   ]
  },
  {
   "cell_type": "code",
   "execution_count": 7,
   "metadata": {},
   "outputs": [],
   "source": [
    "# Labeling data\n",
    "# from pyod.models.iforest import IForest\n",
    "# from sklearn.manifold import TSNE\n",
    "# iforest2 = IForest()\n",
    "# iforest2.fit(unique2)\n",
    "\n",
    "# tsne = TSNE(n_components = 2)\n",
    "\n",
    "# #visualization the labeled data in 2D\n",
    "# X2 = tsne.fit_transform(unique2)\n",
    "# plt.figure(figsize=(20, 20))\n",
    "# plt.scatter(X2[:,0], X2[:,1], c = iforest2.labels_)\n",
    "# plt.show()"
   ]
  },
  {
   "cell_type": "code",
   "execution_count": 8,
   "metadata": {},
   "outputs": [],
   "source": [
    "import tensorflow as tf\n",
    "import numpy as np\n",
    "import matplotlib.pyplot as plt\n",
    "from sklearn.model_selection import train_test_split\n",
    "\n",
    "# Parameters\n",
    "learning_rate = 0.01\n",
    "training_epochs = 130\n",
    "batch_size = 128    # the batch size can not exceed the size of the data."
   ]
  },
  {
   "cell_type": "code",
   "execution_count": 9,
   "metadata": {},
   "outputs": [],
   "source": [
    "# Building the encoder\n",
    "def encoder(x,weights,biases):\n",
    "    # Encoder Hidden layer with sigmoid activation #1\n",
    "    layer_1 = tf.nn.sigmoid(tf.add(tf.matmul(x, weights['encoder_h1']),\n",
    "                                   biases['encoder_b1']))\n",
    "    # Decoder Hidden layer with sigmoid activation #2\n",
    "    layer_2 = tf.nn.sigmoid(tf.add(tf.matmul(layer_1, weights['encoder_h2']),\n",
    "                                   biases['encoder_b2']))\n",
    "    return layer_2"
   ]
  },
  {
   "cell_type": "code",
   "execution_count": 10,
   "metadata": {},
   "outputs": [],
   "source": [
    "# Building the decoder\n",
    "def decoder(x,weights,biases):\n",
    "    # Encoder Hidden layer with sigmoid activation #1\n",
    "    layer_1 = tf.nn.sigmoid(tf.add(tf.matmul(x, weights['decoder_h1']),\n",
    "                                   biases['decoder_b1']))\n",
    "    # Decoder Hidden layer with sigmoid activation #2\n",
    "    layer_2 = tf.nn.sigmoid(tf.add(tf.matmul(layer_1, weights['decoder_h2']),\n",
    "                                   biases['decoder_b2']))\n",
    "    return layer_2"
   ]
  },
  {
   "cell_type": "code",
   "execution_count": 11,
   "metadata": {},
   "outputs": [],
   "source": [
    "tf.reset_default_graph()"
   ]
  },
  {
   "cell_type": "code",
   "execution_count": 12,
   "metadata": {},
   "outputs": [],
   "source": [
    "from sklearn.utils import shuffle\n",
    "def one_class_learning(dataset,testset):\n",
    "    # Network Parameters\n",
    "    n_input = 21\n",
    "    n_hidden_1 = int(n_input/2)\n",
    "    n_hidden_2 = int(n_input/2)\n",
    "    # tf Graph input (only pictures)\n",
    "    X = tf.placeholder(\"float\", [None, n_input])\n",
    "\n",
    "    weights = {\n",
    "        'encoder_h1': tf.Variable(tf.random_normal([n_input, n_hidden_1])),\n",
    "        'encoder_h2': tf.Variable(tf.random_normal([n_hidden_1, n_hidden_2])),\n",
    "        'decoder_h1': tf.Variable(tf.random_normal([n_hidden_2, n_hidden_1])),\n",
    "        'decoder_h2': tf.Variable(tf.random_normal([n_hidden_1, n_input])),\n",
    "    }\n",
    "    biases = {\n",
    "        'encoder_b1': tf.Variable(tf.random_normal([n_hidden_1])),\n",
    "        'encoder_b2': tf.Variable(tf.random_normal([n_hidden_2])),\n",
    "        'decoder_b1': tf.Variable(tf.random_normal([n_hidden_1])),\n",
    "        'decoder_b2': tf.Variable(tf.random_normal([n_input])),\n",
    "    }\n",
    "    # Construct model\n",
    "    encoder_op = encoder(X,weights,biases)\n",
    "    decoder_op = decoder(encoder_op,weights,biases)\n",
    "    # Prediction\n",
    "    y_pred = decoder_op\n",
    "    # Targets (Labels) are the input data.\n",
    "    y_true = X\n",
    "    # Define loss and optimizer, minimize the squared error\n",
    "    cost = tf.reduce_mean(tf.pow(y_true - y_pred, 2))\n",
    "    optimizer = tf.train.RMSPropOptimizer(learning_rate).minimize(cost)\n",
    "\n",
    "    # Initializing the variables\n",
    "    init = tf.global_variables_initializer()\n",
    "    lost = []\n",
    "    \n",
    "    # Launch the graph\n",
    "    with tf.Session() as sess2:\n",
    "        sess2.run(init)\n",
    "        total_batch = int(len(dataset['data'])/batch_size)\n",
    "        dataset = shuffle(dataset['data'])\n",
    "        \n",
    "        # Training cycle\n",
    "        for epoch in range(training_epochs):\n",
    "            \n",
    "            # Loop over all batches\n",
    "            for i in range(total_batch):\n",
    "                batch_xs = dataset[i*batch_size:(i+1)*batch_size]\n",
    "                #batch_ys = dataset['label'][i*batch_size:(i+1)*batch_size]\n",
    "                \n",
    "                # Run optimization op (backprop) and cost op (to get loss value)\n",
    "                _, co = sess2.run([optimizer, cost], feed_dict={X: batch_xs})\n",
    "                \n",
    "            # Display logs per epoch step\n",
    "            print(\"Epoch:\", '%04d' % (epoch+1),\"cost=\", \"{:.9f}\".format(co))\n",
    "            lost.append(co)\n",
    "\n",
    "        encode_decode = sess2.run(y_pred, feed_dict={X: testset['data']})\n",
    "        error = sess2.run(tf.reduce_mean(tf.pow(testset['data'] - encode_decode, 2)))\n",
    "        f, a = plt.subplots(2,2, figsize=(20, 25))\n",
    "        \n",
    "        for i in range(2):\n",
    "\n",
    "            print(testset['label'][i],sess2.run(tf.reduce_mean(tf.pow(testset['data'][i] - encode_decode[i], 2))))\n",
    "            a[0][i].matshow(testset['data'][i:i+10])\n",
    "            a[1][i].matshow(encode_decode[i:i+10])\n",
    "            \n",
    "        f.show()\n",
    "        \n",
    "        saver = tf.train.Saver()\n",
    "        tf.add_to_collection('pred_network', y_pred)\n",
    "        tf.add_to_collection('AE_input',X)\n",
    "        saver.save(sess2,'../Masterarbeit/model_3st/model_3st')\n",
    "        print(\"Model saved\")\n",
    "        \n",
    "#             self supervised learning\n",
    "#             for j in range(len(testset['data'])):\n",
    "#             error.append(sess.run(tf.reduce_mean(tf.pow(testset['data'][j] - encode_decode[j], 2))))\n",
    "            \n",
    "\n",
    "    return lost, error\n",
    "#     examples_to_show = 14\n",
    "#     f, a = plt.subplots(2, examples_to_show, figsize=(examples_to_show, 2))\n",
    "#     for i in range(examples_to_show):\n",
    "#         print(testset['label'][i],sess.run(tf.reduce_mean(tf.pow(testset['data'][i] - encode_decode[i], 2))))\n",
    "#         a[0][i].imshow(np.reshape(testset['data'][i], (28, 28)))\n",
    "#         a[1][i].imshow(np.reshape(encode_decode[i], (28, 28)))\n",
    "#     f.show()\n",
    "#     plt.draw()\n",
    "#     plt.waitforbuttonpress()\n",
    "#         wf = open(filename,'a+')\n",
    "#         for i in range(len(encode_decode)):\n",
    "#             wf.write(str(one_class_label)+','+str(testset['label'][i])+','+str(sess.run(tf.reduce_mean(tf.pow(testset['data'][i] - encode_decode[i], 2))))+'\\n')\n",
    "#             if i % 500 == 0:\n",
    "#                 print(i)\n",
    "#         wf.close()"
   ]
  },
  {
   "cell_type": "code",
   "execution_count": 13,
   "metadata": {},
   "outputs": [],
   "source": [
    "def train(X_train,X_test):\n",
    "    trainset = {'data':X_train,'label':np.zeros(len(X_train))}\n",
    "    testset  = {'data':X_test,'label':np.zeros(len(X_test))}\n",
    "    lost,error = one_class_learning(trainset,testset)\n",
    "    return lost,error"
   ]
  },
  {
   "cell_type": "code",
   "execution_count": 14,
   "metadata": {},
   "outputs": [
    {
     "name": "stdout",
     "output_type": "stream",
     "text": [
      "WARNING:tensorflow:From c:\\users\\alienware\\anaconda3\\envs\\itiv\\lib\\site-packages\\tensorflow\\python\\framework\\op_def_library.py:263: colocate_with (from tensorflow.python.framework.ops) is deprecated and will be removed in a future version.\n",
      "Instructions for updating:\n",
      "Colocations handled automatically by placer.\n",
      "Epoch: 0001 cost= 0.134791777\n",
      "Epoch: 0002 cost= 0.021092543\n",
      "Epoch: 0003 cost= 0.013498102\n",
      "Epoch: 0004 cost= 0.010860868\n",
      "Epoch: 0005 cost= 0.008252730\n",
      "Epoch: 0006 cost= 0.007077476\n",
      "Epoch: 0007 cost= 0.006049727\n",
      "Epoch: 0008 cost= 0.005285806\n",
      "Epoch: 0009 cost= 0.005010261\n",
      "Epoch: 0010 cost= 0.004433586\n",
      "Epoch: 0011 cost= 0.004134490\n",
      "Epoch: 0012 cost= 0.003816378\n",
      "Epoch: 0013 cost= 0.003631385\n",
      "Epoch: 0014 cost= 0.003540414\n",
      "Epoch: 0015 cost= 0.003678387\n",
      "Epoch: 0016 cost= 0.003271723\n",
      "Epoch: 0017 cost= 0.003313619\n",
      "Epoch: 0018 cost= 0.002820519\n",
      "Epoch: 0019 cost= 0.003244150\n",
      "Epoch: 0020 cost= 0.002735285\n",
      "Epoch: 0021 cost= 0.002636244\n",
      "Epoch: 0022 cost= 0.002606558\n",
      "Epoch: 0023 cost= 0.002542251\n",
      "Epoch: 0024 cost= 0.002440711\n",
      "Epoch: 0025 cost= 0.002236500\n",
      "Epoch: 0026 cost= 0.002434639\n",
      "Epoch: 0027 cost= 0.002329057\n",
      "Epoch: 0028 cost= 0.002445885\n",
      "Epoch: 0029 cost= 0.002346670\n",
      "Epoch: 0030 cost= 0.002584040\n",
      "Epoch: 0031 cost= 0.002359688\n",
      "Epoch: 0032 cost= 0.002161197\n",
      "Epoch: 0033 cost= 0.002071016\n",
      "Epoch: 0034 cost= 0.002288088\n",
      "Epoch: 0035 cost= 0.002091224\n",
      "Epoch: 0036 cost= 0.002084232\n",
      "Epoch: 0037 cost= 0.002290180\n",
      "Epoch: 0038 cost= 0.001949526\n",
      "Epoch: 0039 cost= 0.001999928\n",
      "Epoch: 0040 cost= 0.002011785\n",
      "Epoch: 0041 cost= 0.002245604\n",
      "Epoch: 0042 cost= 0.001949248\n",
      "Epoch: 0043 cost= 0.001857417\n",
      "Epoch: 0044 cost= 0.001930711\n",
      "Epoch: 0045 cost= 0.001982593\n",
      "Epoch: 0046 cost= 0.002152377\n",
      "Epoch: 0047 cost= 0.001760309\n",
      "Epoch: 0048 cost= 0.002084578\n",
      "Epoch: 0049 cost= 0.001781379\n",
      "Epoch: 0050 cost= 0.001903124\n",
      "Epoch: 0051 cost= 0.001785571\n",
      "Epoch: 0052 cost= 0.001669502\n",
      "Epoch: 0053 cost= 0.001747446\n",
      "Epoch: 0054 cost= 0.001864449\n",
      "Epoch: 0055 cost= 0.002240747\n",
      "Epoch: 0056 cost= 0.001982736\n",
      "Epoch: 0057 cost= 0.001829048\n",
      "Epoch: 0058 cost= 0.001905292\n",
      "Epoch: 0059 cost= 0.001918299\n",
      "Epoch: 0060 cost= 0.001874240\n",
      "Epoch: 0061 cost= 0.001689609\n",
      "Epoch: 0062 cost= 0.001818588\n",
      "Epoch: 0063 cost= 0.001863146\n",
      "Epoch: 0064 cost= 0.001761104\n",
      "Epoch: 0065 cost= 0.001811579\n",
      "Epoch: 0066 cost= 0.001743944\n",
      "Epoch: 0067 cost= 0.001845819\n",
      "Epoch: 0068 cost= 0.001606838\n",
      "Epoch: 0069 cost= 0.001722653\n",
      "Epoch: 0070 cost= 0.001851046\n",
      "Epoch: 0071 cost= 0.001630602\n",
      "Epoch: 0072 cost= 0.001678341\n",
      "Epoch: 0073 cost= 0.002154427\n",
      "Epoch: 0074 cost= 0.001701001\n",
      "Epoch: 0075 cost= 0.001927181\n",
      "Epoch: 0076 cost= 0.001894560\n",
      "Epoch: 0077 cost= 0.001522422\n",
      "Epoch: 0078 cost= 0.001590324\n",
      "Epoch: 0079 cost= 0.001771520\n",
      "Epoch: 0080 cost= 0.001779613\n",
      "Epoch: 0081 cost= 0.001671434\n",
      "Epoch: 0082 cost= 0.001586428\n",
      "Epoch: 0083 cost= 0.001541067\n",
      "Epoch: 0084 cost= 0.001463252\n",
      "Epoch: 0085 cost= 0.001776412\n",
      "Epoch: 0086 cost= 0.001501793\n",
      "Epoch: 0087 cost= 0.001713121\n",
      "Epoch: 0088 cost= 0.001506115\n",
      "Epoch: 0089 cost= 0.001527744\n",
      "Epoch: 0090 cost= 0.001492496\n",
      "Epoch: 0091 cost= 0.001519994\n",
      "Epoch: 0092 cost= 0.001568122\n",
      "Epoch: 0093 cost= 0.001480245\n",
      "Epoch: 0094 cost= 0.001678603\n",
      "Epoch: 0095 cost= 0.002150790\n",
      "Epoch: 0096 cost= 0.001407472\n",
      "Epoch: 0097 cost= 0.001406586\n",
      "Epoch: 0098 cost= 0.001757227\n",
      "Epoch: 0099 cost= 0.001906876\n",
      "Epoch: 0100 cost= 0.001712040\n",
      "Epoch: 0101 cost= 0.001485030\n",
      "Epoch: 0102 cost= 0.001675262\n",
      "Epoch: 0103 cost= 0.001708515\n",
      "Epoch: 0104 cost= 0.001356744\n",
      "Epoch: 0105 cost= 0.001519923\n",
      "Epoch: 0106 cost= 0.001538602\n",
      "Epoch: 0107 cost= 0.001460254\n",
      "Epoch: 0108 cost= 0.001618481\n",
      "Epoch: 0109 cost= 0.001693818\n",
      "Epoch: 0110 cost= 0.001942984\n",
      "Epoch: 0111 cost= 0.001737114\n",
      "Epoch: 0112 cost= 0.001528180\n",
      "Epoch: 0113 cost= 0.001710227\n",
      "Epoch: 0114 cost= 0.001443034\n",
      "Epoch: 0115 cost= 0.001461224\n",
      "Epoch: 0116 cost= 0.001519043\n",
      "Epoch: 0117 cost= 0.001550757\n",
      "Epoch: 0118 cost= 0.001549122\n",
      "Epoch: 0119 cost= 0.001618289\n",
      "Epoch: 0120 cost= 0.001894015\n",
      "Epoch: 0121 cost= 0.001366292\n",
      "Epoch: 0122 cost= 0.001372802\n",
      "Epoch: 0123 cost= 0.001934278\n",
      "Epoch: 0124 cost= 0.001430798\n",
      "Epoch: 0125 cost= 0.001953413\n",
      "Epoch: 0126 cost= 0.001424492\n",
      "Epoch: 0127 cost= 0.001442880\n",
      "Epoch: 0128 cost= 0.001664257\n",
      "Epoch: 0129 cost= 0.001529085\n",
      "Epoch: 0130 cost= 0.001528406\n",
      "0.0 0.0011021125181347722\n",
      "0.0 0.00896496215864154\n"
     ]
    },
    {
     "name": "stderr",
     "output_type": "stream",
     "text": [
      "c:\\users\\alienware\\anaconda3\\envs\\itiv\\lib\\site-packages\\matplotlib\\figure.py:445: UserWarning: Matplotlib is currently using module://ipykernel.pylab.backend_inline, which is a non-GUI backend, so cannot show the figure.\n",
      "  % get_backend())\n"
     ]
    },
    {
     "name": "stdout",
     "output_type": "stream",
     "text": [
      "Model saved\n"
     ]
    },
    {
     "data": {
      "image/png": "[encoded data removed]",
      "text/plain": [
       "<Figure size 1440x1800 with 4 Axes>"
      ]
     },
     "metadata": {
      "needs_background": "light"
     },
     "output_type": "display_data"
    }
   ],
   "source": [
    "X_train3, X_test3 = train_test_split(normal3, test_size=0.1, random_state=20)\n",
    "lost3,error3 = train(X_train3, X_test3)"
   ]
  },
  {
   "cell_type": "code",
   "execution_count": 15,
   "metadata": {},
   "outputs": [
    {
     "name": "stdout",
     "output_type": "stream",
     "text": [
      "0.0017898609958532695\n"
     ]
    }
   ],
   "source": [
    "print(error3)"
   ]
  },
  {
   "cell_type": "code",
   "execution_count": null,
   "metadata": {},
   "outputs": [],
   "source": []
  },
  {
   "cell_type": "code",
   "execution_count": null,
   "metadata": {},
   "outputs": [],
   "source": []
  }
 ],
 "metadata": {
  "kernelspec": {
   "display_name": "Python 3",
   "language": "python",
   "name": "python3"
  },
  "language_info": {
   "codemirror_mode": {
    "name": "ipython",
    "version": 3
   },
   "file_extension": ".py",
   "mimetype": "text/x-python",
   "name": "python",
   "nbconvert_exporter": "python",
   "pygments_lexer": "ipython3",
   "version": "3.6.8"
  }
 },
 "nbformat": 4,
 "nbformat_minor": 2
}
