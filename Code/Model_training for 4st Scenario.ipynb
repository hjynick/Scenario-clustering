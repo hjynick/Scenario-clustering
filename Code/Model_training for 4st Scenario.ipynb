{
 "cells": [
  {
   "cell_type": "code",
   "execution_count": 1,
   "metadata": {},
   "outputs": [],
   "source": [
    "from sklearn.manifold import TSNE\n",
    "import numpy as np\n",
    "import matplotlib.pyplot as plt"
   ]
  },
  {
   "cell_type": "code",
   "execution_count": 2,
   "metadata": {},
   "outputs": [
    {
     "name": "stdout",
     "output_type": "stream",
     "text": [
      "4 state scenario matrics has the shape: (34738, 28)\n"
     ]
    }
   ],
   "source": [
    "#load the data matrics\n",
    "matrix_4st=np.loadtxt('matrix64.txt')\n",
    "print('4 state scenario matrics has the shape:',matrix_4st.shape)\n"
   ]
  },
  {
   "cell_type": "code",
   "execution_count": 3,
   "metadata": {},
   "outputs": [
    {
     "name": "stdout",
     "output_type": "stream",
     "text": [
      "(20022, 28)\n"
     ]
    }
   ],
   "source": [
    "\n",
    "unique4 = np.unique(matrix_4st,axis =0)\n",
    "print(unique4.shape)"
   ]
  },
  {
   "cell_type": "markdown",
   "metadata": {},
   "source": [
    "## Max-Min Normalization\n",
    "$$\n",
    "x^{\\prime}=\\frac{x-\\min (x)}{\\max (x)-\\min (x)}\n",
    "$$"
   ]
  },
  {
   "cell_type": "code",
   "execution_count": 4,
   "metadata": {},
   "outputs": [],
   "source": [
    "from sklearn.preprocessing import MinMaxScaler\n",
    "\n",
    "scaler4 = MinMaxScaler()\n",
    "scaler4.fit(unique4)\n",
    "normal4 = scaler4.transform(unique4)"
   ]
  },
  {
   "cell_type": "code",
   "execution_count": 5,
   "metadata": {},
   "outputs": [
    {
     "data": {
      "text/plain": [
       "array([[0.        , 0.0625    , 0.0625    , ..., 0.        , 0.07692308,\n",
       "        0.08333333],\n",
       "       [0.        , 0.0625    , 0.0625    , ..., 0.        , 0.15384615,\n",
       "        0.        ],\n",
       "       [0.        , 0.0625    , 0.0625    , ..., 0.        , 0.        ,\n",
       "        0.16666667],\n",
       "       ...,\n",
       "       [0.875     , 0.9375    , 1.        , ..., 0.        , 0.76923077,\n",
       "        0.41666667],\n",
       "       [0.9375    , 0.9375    , 0.9375    , ..., 0.        , 0.76923077,\n",
       "        0.33333333],\n",
       "       [1.        , 1.        , 1.        , ..., 0.        , 0.76923077,\n",
       "        0.41666667]])"
      ]
     },
     "execution_count": 5,
     "metadata": {},
     "output_type": "execute_result"
    }
   ],
   "source": [
    "normal4"
   ]
  },
  {
   "cell_type": "markdown",
   "metadata": {},
   "source": [
    "## Model training using Loop driving data\n",
    "\n",
    "![loop](..\\Masterarbeit\\pic\\kreisfahrt.jpg)"
   ]
  },
  {
   "cell_type": "code",
   "execution_count": 6,
   "metadata": {},
   "outputs": [],
   "source": [
    "n_input_1 = 7\n",
    "n_input_2 = 14\n",
    "n_input_3 = 21\n",
    "n_input_4 = 28"
   ]
  },
  {
   "cell_type": "code",
   "execution_count": 7,
   "metadata": {},
   "outputs": [],
   "source": [
    "# Labeling data\n",
    "# from pyod.models.iforest import IForest\n",
    "# from sklearn.manifold import TSNE\n",
    "# iforest2 = IForest()\n",
    "# iforest2.fit(unique2)\n",
    "\n",
    "# tsne = TSNE(n_components = 2)\n",
    "\n",
    "# #visualization the labeled data in 2D\n",
    "# X2 = tsne.fit_transform(unique2)\n",
    "# plt.figure(figsize=(20, 20))\n",
    "# plt.scatter(X2[:,0], X2[:,1], c = iforest2.labels_)\n",
    "# plt.show()"
   ]
  },
  {
   "cell_type": "code",
   "execution_count": 8,
   "metadata": {},
   "outputs": [],
   "source": [
    "import tensorflow as tf\n",
    "import numpy as np\n",
    "import matplotlib.pyplot as plt\n",
    "from sklearn.model_selection import train_test_split\n",
    "\n",
    "# Parameters\n",
    "learning_rate = 0.01\n",
    "training_epochs = 130\n",
    "batch_size = 128   # the batch size can not exceed the size of the data."
   ]
  },
  {
   "cell_type": "code",
   "execution_count": 9,
   "metadata": {},
   "outputs": [],
   "source": [
    "# Building the encoder\n",
    "def encoder(x,weights,biases):\n",
    "    # Encoder Hidden layer with sigmoid activation #1\n",
    "    layer_1 = tf.nn.sigmoid(tf.add(tf.matmul(x, weights['encoder_h1']),\n",
    "                                   biases['encoder_b1']))\n",
    "    # Decoder Hidden layer with sigmoid activation #2\n",
    "    layer_2 = tf.nn.sigmoid(tf.add(tf.matmul(layer_1, weights['encoder_h2']),\n",
    "                                   biases['encoder_b2']))\n",
    "    return layer_2"
   ]
  },
  {
   "cell_type": "code",
   "execution_count": 10,
   "metadata": {},
   "outputs": [],
   "source": [
    "# Building the decoder\n",
    "def decoder(x,weights,biases):\n",
    "    # Encoder Hidden layer with sigmoid activation #1\n",
    "    layer_1 = tf.nn.sigmoid(tf.add(tf.matmul(x, weights['decoder_h1']),\n",
    "                                   biases['decoder_b1']))\n",
    "    # Decoder Hidden layer with sigmoid activation #2\n",
    "    layer_2 = tf.nn.sigmoid(tf.add(tf.matmul(layer_1, weights['decoder_h2']),\n",
    "                                   biases['decoder_b2']))\n",
    "    return layer_2"
   ]
  },
  {
   "cell_type": "code",
   "execution_count": 11,
   "metadata": {},
   "outputs": [],
   "source": [
    "tf.reset_default_graph()"
   ]
  },
  {
   "cell_type": "code",
   "execution_count": 12,
   "metadata": {},
   "outputs": [],
   "source": [
    "from sklearn.utils import shuffle\n",
    "def one_class_learning(dataset,testset):\n",
    "    # Network Parameters\n",
    "    n_input = 28\n",
    "    n_hidden_1 = int(n_input/2)\n",
    "    n_hidden_2 = int(n_input/2)\n",
    "    # tf Graph input (only pictures)\n",
    "    X = tf.placeholder(\"float\", [None, n_input])\n",
    "\n",
    "    weights = {\n",
    "        'encoder_h1': tf.Variable(tf.random_normal([n_input, n_hidden_1])),\n",
    "        'encoder_h2': tf.Variable(tf.random_normal([n_hidden_1, n_hidden_2])),\n",
    "        'decoder_h1': tf.Variable(tf.random_normal([n_hidden_2, n_hidden_1])),\n",
    "        'decoder_h2': tf.Variable(tf.random_normal([n_hidden_1, n_input])),\n",
    "    }\n",
    "    biases = {\n",
    "        'encoder_b1': tf.Variable(tf.random_normal([n_hidden_1])),\n",
    "        'encoder_b2': tf.Variable(tf.random_normal([n_hidden_2])),\n",
    "        'decoder_b1': tf.Variable(tf.random_normal([n_hidden_1])),\n",
    "        'decoder_b2': tf.Variable(tf.random_normal([n_input])),\n",
    "    }\n",
    "    # Construct model\n",
    "    encoder_op = encoder(X,weights,biases)\n",
    "    decoder_op = decoder(encoder_op,weights,biases)\n",
    "    # Prediction\n",
    "    y_pred = decoder_op\n",
    "    # Targets (Labels) are the input data.\n",
    "    y_true = X\n",
    "    # Define loss and optimizer, minimize the squared error\n",
    "    cost = tf.reduce_mean(tf.pow(y_true - y_pred, 2))\n",
    "    optimizer = tf.train.RMSPropOptimizer(learning_rate).minimize(cost)\n",
    "\n",
    "    # Initializing the variables\n",
    "    init = tf.global_variables_initializer()\n",
    "    lost = []\n",
    "    \n",
    "    # Launch the graph\n",
    "    with tf.Session() as sess2:\n",
    "        sess2.run(init)\n",
    "        total_batch = int(len(dataset['data'])/batch_size)\n",
    "        dataset = shuffle(dataset['data'])\n",
    "        \n",
    "        # Training cycle\n",
    "        for epoch in range(training_epochs):\n",
    "            \n",
    "            # Loop over all batches\n",
    "            for i in range(total_batch):\n",
    "                batch_xs = dataset[i*batch_size:(i+1)*batch_size]\n",
    "                #batch_ys = dataset['label'][i*batch_size:(i+1)*batch_size]\n",
    "                \n",
    "                # Run optimization op (backprop) and cost op (to get loss value)\n",
    "                _, co = sess2.run([optimizer, cost], feed_dict={X: batch_xs})\n",
    "                \n",
    "            # Display logs per epoch step\n",
    "            print(\"Epoch:\", '%04d' % (epoch+1),\"cost=\", \"{:.9f}\".format(co))\n",
    "            lost.append(co)\n",
    "\n",
    "        encode_decode = sess2.run(y_pred, feed_dict={X: testset['data']})\n",
    "        error = sess2.run(tf.reduce_mean(tf.pow(testset['data'] - encode_decode, 2)))\n",
    "        f, a = plt.subplots(2,2, figsize=(20, 24))\n",
    "        \n",
    "        for i in range(2):\n",
    "\n",
    "            print(testset['label'][i],sess2.run(tf.reduce_mean(tf.pow(testset['data'][i] - encode_decode[i], 2))))\n",
    "            a[0][i].matshow(testset['data'][i:i+10])\n",
    "            a[1][i].matshow(encode_decode[i:i+10])\n",
    "            \n",
    "        f.show()\n",
    "        \n",
    "        saver = tf.train.Saver()\n",
    "        tf.add_to_collection('pred_network', y_pred)\n",
    "        tf.add_to_collection('AE_input',X)\n",
    "        saver.save(sess2,'../Masterarbeit/model_4st/model_4st')\n",
    "        print(\"Model saved\")\n",
    "        \n",
    "#             self supervised learning\n",
    "#             for j in range(len(testset['data'])):\n",
    "#             error.append(sess.run(tf.reduce_mean(tf.pow(testset['data'][j] - encode_decode[j], 2))))\n",
    "            \n",
    "\n",
    "    return lost, error\n",
    "#     examples_to_show = 14\n",
    "#     f, a = plt.subplots(2, examples_to_show, figsize=(examples_to_show, 2))\n",
    "#     for i in range(examples_to_show):\n",
    "#         print(testset['label'][i],sess.run(tf.reduce_mean(tf.pow(testset['data'][i] - encode_decode[i], 2))))\n",
    "#         a[0][i].imshow(np.reshape(testset['data'][i], (28, 28)))\n",
    "#         a[1][i].imshow(np.reshape(encode_decode[i], (28, 28)))\n",
    "#     f.show()\n",
    "#     plt.draw()\n",
    "#     plt.waitforbuttonpress()\n",
    "#         wf = open(filename,'a+')\n",
    "#         for i in range(len(encode_decode)):\n",
    "#             wf.write(str(one_class_label)+','+str(testset['label'][i])+','+str(sess.run(tf.reduce_mean(tf.pow(testset['data'][i] - encode_decode[i], 2))))+'\\n')\n",
    "#             if i % 500 == 0:\n",
    "#                 print(i)\n",
    "#         wf.close()"
   ]
  },
  {
   "cell_type": "code",
   "execution_count": 13,
   "metadata": {},
   "outputs": [],
   "source": [
    "def train(X_train,X_test):\n",
    "    trainset = {'data':X_train,'label':np.zeros(len(X_train))}\n",
    "    testset  = {'data':X_test,'label':np.zeros(len(X_test))}\n",
    "    lost,error = one_class_learning(trainset,testset)\n",
    "    return lost,error"
   ]
  },
  {
   "cell_type": "code",
   "execution_count": 14,
   "metadata": {},
   "outputs": [
    {
     "name": "stdout",
     "output_type": "stream",
     "text": [
      "WARNING:tensorflow:From c:\\users\\alienware\\anaconda3\\envs\\itiv\\lib\\site-packages\\tensorflow\\python\\framework\\op_def_library.py:263: colocate_with (from tensorflow.python.framework.ops) is deprecated and will be removed in a future version.\n",
      "Instructions for updating:\n",
      "Colocations handled automatically by placer.\n",
      "Epoch: 0001 cost= 0.062261529\n",
      "Epoch: 0002 cost= 0.010090045\n",
      "Epoch: 0003 cost= 0.006827531\n",
      "Epoch: 0004 cost= 0.005972740\n",
      "Epoch: 0005 cost= 0.005473382\n",
      "Epoch: 0006 cost= 0.004982482\n",
      "Epoch: 0007 cost= 0.004403294\n",
      "Epoch: 0008 cost= 0.004375524\n",
      "Epoch: 0009 cost= 0.004327157\n",
      "Epoch: 0010 cost= 0.004015044\n",
      "Epoch: 0011 cost= 0.004142594\n",
      "Epoch: 0012 cost= 0.003219542\n",
      "Epoch: 0013 cost= 0.003037536\n",
      "Epoch: 0014 cost= 0.003185249\n",
      "Epoch: 0015 cost= 0.003339018\n",
      "Epoch: 0016 cost= 0.002782987\n",
      "Epoch: 0017 cost= 0.002693030\n",
      "Epoch: 0018 cost= 0.002752148\n",
      "Epoch: 0019 cost= 0.003328945\n",
      "Epoch: 0020 cost= 0.002494229\n",
      "Epoch: 0021 cost= 0.002557810\n",
      "Epoch: 0022 cost= 0.002755000\n",
      "Epoch: 0023 cost= 0.003157130\n",
      "Epoch: 0024 cost= 0.002679947\n",
      "Epoch: 0025 cost= 0.002328436\n",
      "Epoch: 0026 cost= 0.002160075\n",
      "Epoch: 0027 cost= 0.002210785\n",
      "Epoch: 0028 cost= 0.002804501\n",
      "Epoch: 0029 cost= 0.002087996\n",
      "Epoch: 0030 cost= 0.002312961\n",
      "Epoch: 0031 cost= 0.002197856\n",
      "Epoch: 0032 cost= 0.001977660\n",
      "Epoch: 0033 cost= 0.002313557\n",
      "Epoch: 0034 cost= 0.002504578\n",
      "Epoch: 0035 cost= 0.002278476\n",
      "Epoch: 0036 cost= 0.002146985\n",
      "Epoch: 0037 cost= 0.002004769\n",
      "Epoch: 0038 cost= 0.002156777\n",
      "Epoch: 0039 cost= 0.001879049\n",
      "Epoch: 0040 cost= 0.002476392\n",
      "Epoch: 0041 cost= 0.002480534\n",
      "Epoch: 0042 cost= 0.001972238\n",
      "Epoch: 0043 cost= 0.002230592\n",
      "Epoch: 0044 cost= 0.002220384\n",
      "Epoch: 0045 cost= 0.001898039\n",
      "Epoch: 0046 cost= 0.002091400\n",
      "Epoch: 0047 cost= 0.001922051\n",
      "Epoch: 0048 cost= 0.001914468\n",
      "Epoch: 0049 cost= 0.001948600\n",
      "Epoch: 0050 cost= 0.002330705\n",
      "Epoch: 0051 cost= 0.002173238\n",
      "Epoch: 0052 cost= 0.002079761\n",
      "Epoch: 0053 cost= 0.001903612\n",
      "Epoch: 0054 cost= 0.001842183\n",
      "Epoch: 0055 cost= 0.001993846\n",
      "Epoch: 0056 cost= 0.002034343\n",
      "Epoch: 0057 cost= 0.002017759\n",
      "Epoch: 0058 cost= 0.001776649\n",
      "Epoch: 0059 cost= 0.002579909\n",
      "Epoch: 0060 cost= 0.001777070\n",
      "Epoch: 0061 cost= 0.001967440\n",
      "Epoch: 0062 cost= 0.001823293\n",
      "Epoch: 0063 cost= 0.001799071\n",
      "Epoch: 0064 cost= 0.001970210\n",
      "Epoch: 0065 cost= 0.001902517\n",
      "Epoch: 0066 cost= 0.002078299\n",
      "Epoch: 0067 cost= 0.001893922\n",
      "Epoch: 0068 cost= 0.001660585\n",
      "Epoch: 0069 cost= 0.001571452\n",
      "Epoch: 0070 cost= 0.001576531\n",
      "Epoch: 0071 cost= 0.001898044\n",
      "Epoch: 0072 cost= 0.001835405\n",
      "Epoch: 0073 cost= 0.002073048\n",
      "Epoch: 0074 cost= 0.001872484\n",
      "Epoch: 0075 cost= 0.001967933\n",
      "Epoch: 0076 cost= 0.001761145\n",
      "Epoch: 0077 cost= 0.001765009\n",
      "Epoch: 0078 cost= 0.001832541\n",
      "Epoch: 0079 cost= 0.001835011\n",
      "Epoch: 0080 cost= 0.002332254\n",
      "Epoch: 0081 cost= 0.002105264\n",
      "Epoch: 0082 cost= 0.001760900\n",
      "Epoch: 0083 cost= 0.001760584\n",
      "Epoch: 0084 cost= 0.002174527\n",
      "Epoch: 0085 cost= 0.001977606\n",
      "Epoch: 0086 cost= 0.001653010\n",
      "Epoch: 0087 cost= 0.002140385\n",
      "Epoch: 0088 cost= 0.001828274\n",
      "Epoch: 0089 cost= 0.002154489\n",
      "Epoch: 0090 cost= 0.001758642\n",
      "Epoch: 0091 cost= 0.001879879\n",
      "Epoch: 0092 cost= 0.001781212\n",
      "Epoch: 0093 cost= 0.001757962\n",
      "Epoch: 0094 cost= 0.001731258\n",
      "Epoch: 0095 cost= 0.001801648\n",
      "Epoch: 0096 cost= 0.001616785\n",
      "Epoch: 0097 cost= 0.001489921\n",
      "Epoch: 0098 cost= 0.001600042\n",
      "Epoch: 0099 cost= 0.001653809\n",
      "Epoch: 0100 cost= 0.001797093\n",
      "Epoch: 0101 cost= 0.001404637\n",
      "Epoch: 0102 cost= 0.001736058\n",
      "Epoch: 0103 cost= 0.001457127\n",
      "Epoch: 0104 cost= 0.001427858\n",
      "Epoch: 0105 cost= 0.001518250\n",
      "Epoch: 0106 cost= 0.001804272\n",
      "Epoch: 0107 cost= 0.001516340\n",
      "Epoch: 0108 cost= 0.001706268\n",
      "Epoch: 0109 cost= 0.001902672\n",
      "Epoch: 0110 cost= 0.001705706\n",
      "Epoch: 0111 cost= 0.001741247\n",
      "Epoch: 0112 cost= 0.001577794\n",
      "Epoch: 0113 cost= 0.001706957\n",
      "Epoch: 0114 cost= 0.001445252\n",
      "Epoch: 0115 cost= 0.001492888\n",
      "Epoch: 0116 cost= 0.001851551\n",
      "Epoch: 0117 cost= 0.001493082\n",
      "Epoch: 0118 cost= 0.001915228\n",
      "Epoch: 0119 cost= 0.001672431\n",
      "Epoch: 0120 cost= 0.001689031\n",
      "Epoch: 0121 cost= 0.001355648\n",
      "Epoch: 0122 cost= 0.001566630\n",
      "Epoch: 0123 cost= 0.001438445\n",
      "Epoch: 0124 cost= 0.001752121\n",
      "Epoch: 0125 cost= 0.001633830\n",
      "Epoch: 0126 cost= 0.001585986\n",
      "Epoch: 0127 cost= 0.001496443\n",
      "Epoch: 0128 cost= 0.001488674\n",
      "Epoch: 0129 cost= 0.001655084\n",
      "Epoch: 0130 cost= 0.001539892\n",
      "0.0 0.0015729046486335362\n",
      "0.0 0.000657982198913005\n"
     ]
    },
    {
     "name": "stderr",
     "output_type": "stream",
     "text": [
      "c:\\users\\alienware\\anaconda3\\envs\\itiv\\lib\\site-packages\\matplotlib\\figure.py:445: UserWarning: Matplotlib is currently using module://ipykernel.pylab.backend_inline, which is a non-GUI backend, so cannot show the figure.\n",
      "  % get_backend())\n"
     ]
    },
    {
     "name": "stdout",
     "output_type": "stream",
     "text": [
      "Model saved\n"
     ]
    },
    {
     "data": {
      "image/png": "[encoded data removed]",
      "text/plain": [
       "<Figure size 1440x1728 with 4 Axes>"
      ]
     },
     "metadata": {
      "needs_background": "light"
     },
     "output_type": "display_data"
    }
   ],
   "source": [
    "X_train4, X_test4 = train_test_split(normal4, test_size=0.1, random_state=920)\n",
    "lost4,error4 = train(X_train4, X_test4)"
   ]
  },
  {
   "cell_type": "code",
   "execution_count": 15,
   "metadata": {},
   "outputs": [
    {
     "name": "stdout",
     "output_type": "stream",
     "text": [
      "0.001452602168551688\n"
     ]
    }
   ],
   "source": [
    "print(error4)"
   ]
  },
  {
   "cell_type": "code",
   "execution_count": null,
   "metadata": {},
   "outputs": [],
   "source": []
  }
 ],
 "metadata": {
  "kernelspec": {
   "display_name": "Python 3",
   "language": "python",
   "name": "python3"
  },
  "language_info": {
   "codemirror_mode": {
    "name": "ipython",
    "version": 3
   },
   "file_extension": ".py",
   "mimetype": "text/x-python",
   "name": "python",
   "nbconvert_exporter": "python",
   "pygments_lexer": "ipython3",
   "version": "3.6.8"
  }
 },
 "nbformat": 4,
 "nbformat_minor": 2
}
