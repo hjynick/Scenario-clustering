{
 "cells": [
  {
   "cell_type": "code",
   "execution_count": 1,
   "metadata": {},
   "outputs": [],
   "source": [
    "from sklearn.manifold import TSNE\n",
    "import numpy as np\n",
    "import matplotlib.pyplot as plt"
   ]
  },
  {
   "cell_type": "code",
   "execution_count": 2,
   "metadata": {},
   "outputs": [
    {
     "name": "stdout",
     "output_type": "stream",
     "text": [
      "2 state scenario matrics has the shape: (34878, 14)\n"
     ]
    }
   ],
   "source": [
    "#load the data matrics\n",
    "matrix_2st=np.loadtxt('matrix62.txt')\n",
    "print('2 state scenario matrics has the shape:',matrix_2st.shape)"
   ]
  },
  {
   "cell_type": "code",
   "execution_count": 3,
   "metadata": {},
   "outputs": [
    {
     "name": "stdout",
     "output_type": "stream",
     "text": [
      "(10205, 14)\n"
     ]
    }
   ],
   "source": [
    "unique2 = np.unique(matrix_2st,axis =0)\n",
    "print(unique2.shape)"
   ]
  },
  {
   "cell_type": "markdown",
   "metadata": {},
   "source": [
    "## Max-Min Normalization\n",
    "$$\n",
    "x^{\\prime}=\\frac{x-\\min (x)}{\\max (x)-\\min (x)}\n",
    "$$"
   ]
  },
  {
   "cell_type": "code",
   "execution_count": 4,
   "metadata": {},
   "outputs": [],
   "source": [
    "from sklearn.preprocessing import MinMaxScaler\n",
    "\n",
    "scaler2 = MinMaxScaler()\n",
    "scaler2.fit(unique2)\n",
    "normal2 = scaler2.transform(unique2)"
   ]
  },
  {
   "cell_type": "code",
   "execution_count": 5,
   "metadata": {},
   "outputs": [
    {
     "data": {
      "text/plain": [
       "array([[0.        , 0.05882353, 0.        , ..., 0.07692308, 0.        ,\n",
       "        0.08333333],\n",
       "       [0.        , 0.05882353, 0.        , ..., 0.        , 0.07692308,\n",
       "        0.        ],\n",
       "       [0.        , 0.05882353, 0.        , ..., 0.        , 0.        ,\n",
       "        0.08333333],\n",
       "       ...,\n",
       "       [1.        , 0.94117647, 0.        , ..., 0.        , 0.76923077,\n",
       "        0.41666667],\n",
       "       [1.        , 0.94117647, 0.        , ..., 0.        , 0.84615385,\n",
       "        0.41666667],\n",
       "       [1.        , 1.        , 0.        , ..., 0.        , 0.92307692,\n",
       "        0.41666667]])"
      ]
     },
     "execution_count": 5,
     "metadata": {},
     "output_type": "execute_result"
    }
   ],
   "source": [
    "normal2"
   ]
  },
  {
   "cell_type": "markdown",
   "metadata": {},
   "source": [
    "### two approach \n",
    "#### handcraft labeling\n",
    "- visual observation through carmaker\n",
    "- choose the anomaly scenario \n",
    "- label the anomaly scenario\n",
    "\n",
    "#### clustering labeling"
   ]
  },
  {
   "cell_type": "markdown",
   "metadata": {},
   "source": [
    "## Model training using Loop driving data\n",
    "\n",
    "![loop](..\\Masterarbeit\\pic\\kreisfahrt.jpg)"
   ]
  },
  {
   "cell_type": "code",
   "execution_count": 6,
   "metadata": {},
   "outputs": [],
   "source": [
    "n_input_1 = 7\n",
    "n_input_2 = 14\n",
    "n_input_3 = 21\n",
    "n_input_4 = 28"
   ]
  },
  {
   "cell_type": "code",
   "execution_count": 7,
   "metadata": {},
   "outputs": [],
   "source": [
    "# Labeling data\n",
    "# from pyod.models.iforest import IForest\n",
    "# from sklearn.manifold import TSNE\n",
    "# iforest2 = IForest()\n",
    "# iforest2.fit(unique2)\n",
    "\n",
    "# tsne = TSNE(n_components = 2)\n",
    "\n",
    "# #visualization the labeled data in 2D\n",
    "# X2 = tsne.fit_transform(unique2)\n",
    "# plt.figure(figsize=(20, 20))\n",
    "# plt.scatter(X2[:,0], X2[:,1], c = iforest2.labels_)\n",
    "# plt.show()"
   ]
  },
  {
   "cell_type": "code",
   "execution_count": 8,
   "metadata": {},
   "outputs": [],
   "source": [
    "import tensorflow as tf\n",
    "import numpy as np\n",
    "import matplotlib.pyplot as plt\n",
    "from sklearn.model_selection import train_test_split\n",
    "\n",
    "# Parameters\n",
    "learning_rate = 0.008\n",
    "training_epochs = 130\n",
    "batch_size = 560    # the batch size can not exceed the size of the data."
   ]
  },
  {
   "cell_type": "code",
   "execution_count": 9,
   "metadata": {},
   "outputs": [],
   "source": [
    "# Building the encoder\n",
    "def encoder(x,weights,biases):\n",
    "    # Encoder Hidden layer with sigmoid activation #1\n",
    "    layer_1 = tf.nn.sigmoid(tf.add(tf.matmul(x, weights['encoder_h1']),\n",
    "                                   biases['encoder_b1']))\n",
    "    # Decoder Hidden layer with sigmoid activation #2\n",
    "    layer_2 = tf.nn.sigmoid(tf.add(tf.matmul(layer_1, weights['encoder_h2']),\n",
    "                                   biases['encoder_b2']))\n",
    "    return layer_2"
   ]
  },
  {
   "cell_type": "code",
   "execution_count": 10,
   "metadata": {},
   "outputs": [],
   "source": [
    "# Building the decoder\n",
    "def decoder(x,weights,biases):\n",
    "    # Encoder Hidden layer with sigmoid activation #1\n",
    "    layer_1 = tf.nn.sigmoid(tf.add(tf.matmul(x, weights['decoder_h1']),\n",
    "                                   biases['decoder_b1']))\n",
    "    # Decoder Hidden layer with sigmoid activation #2\n",
    "    layer_2 = tf.nn.sigmoid(tf.add(tf.matmul(layer_1, weights['decoder_h2']),\n",
    "                                   biases['decoder_b2']))\n",
    "    return layer_2"
   ]
  },
  {
   "cell_type": "code",
   "execution_count": 11,
   "metadata": {},
   "outputs": [],
   "source": [
    "tf.reset_default_graph()"
   ]
  },
  {
   "cell_type": "code",
   "execution_count": 12,
   "metadata": {},
   "outputs": [],
   "source": [
    "from sklearn.utils import shuffle\n",
    "def one_class_learning(dataset,testset):\n",
    "    # Network Parameters\n",
    "    n_input = 14\n",
    "    n_hidden_1 = int(n_input/2)\n",
    "    n_hidden_2 = int(n_input/2)\n",
    "    # tf Graph input (only pictures)\n",
    "    X = tf.placeholder(\"float\", [None, n_input])\n",
    "\n",
    "    weights = {\n",
    "        'encoder_h1': tf.Variable(tf.random_normal([n_input, n_hidden_1])),\n",
    "        'encoder_h2': tf.Variable(tf.random_normal([n_hidden_1, n_hidden_2])),\n",
    "        'decoder_h1': tf.Variable(tf.random_normal([n_hidden_2, n_hidden_1])),\n",
    "        'decoder_h2': tf.Variable(tf.random_normal([n_hidden_1, n_input])),\n",
    "    }\n",
    "    biases = {\n",
    "        'encoder_b1': tf.Variable(tf.random_normal([n_hidden_1])),\n",
    "        'encoder_b2': tf.Variable(tf.random_normal([n_hidden_2])),\n",
    "        'decoder_b1': tf.Variable(tf.random_normal([n_hidden_1])),\n",
    "        'decoder_b2': tf.Variable(tf.random_normal([n_input])),\n",
    "    }\n",
    "    # Construct model\n",
    "    encoder_op = encoder(X,weights,biases)\n",
    "    decoder_op = decoder(encoder_op,weights,biases)\n",
    "    # Prediction\n",
    "    y_pred = decoder_op\n",
    "    # Targets (Labels) are the input data.\n",
    "    y_true = X\n",
    "    # Define loss and optimizer, minimize the squared error\n",
    "    cost = tf.reduce_mean(tf.pow(y_true - y_pred, 2))\n",
    "    optimizer = tf.train.RMSPropOptimizer(learning_rate).minimize(cost)\n",
    "\n",
    "    # Initializing the variables\n",
    "    init = tf.global_variables_initializer()\n",
    "    lost = []\n",
    "    \n",
    "    # Launch the graph\n",
    "    with tf.Session() as sess2:\n",
    "        sess2.run(init)\n",
    "        total_batch = int(len(dataset['data'])/batch_size)\n",
    "        dataset = shuffle(dataset['data'])\n",
    "        \n",
    "        # Training cycle\n",
    "        for epoch in range(training_epochs):\n",
    "            \n",
    "            # Loop over all batches\n",
    "            for i in range(total_batch):\n",
    "                batch_xs = dataset[i*batch_size:(i+1)*batch_size]\n",
    "                #batch_ys = dataset['label'][i*batch_size:(i+1)*batch_size]\n",
    "                \n",
    "                # Run optimization op (backprop) and cost op (to get loss value)\n",
    "                _, co = sess2.run([optimizer, cost], feed_dict={X: batch_xs})\n",
    "                \n",
    "            # Display logs per epoch step\n",
    "            print(\"Epoch:\", '%04d' % (epoch+1),\"cost=\", \"{:.9f}\".format(co))\n",
    "            lost.append(co)\n",
    "\n",
    "        encode_decode = sess2.run(y_pred, feed_dict={X: testset['data']})\n",
    "        error = sess2.run(tf.reduce_mean(tf.pow(testset['data'] - encode_decode, 2)))\n",
    "        f, a = plt.subplots(2,2, figsize=(14, 14))\n",
    "        \n",
    "        for i in range(2):\n",
    "\n",
    "            print(testset['label'][i],sess2.run(tf.reduce_mean(tf.pow(testset['data'][i] - encode_decode[i], 2))))\n",
    "            a[0][i].matshow(testset['data'][i:i+10])\n",
    "            a[1][i].matshow(encode_decode[i:i+10])\n",
    "            \n",
    "        f.show()\n",
    "        \n",
    "        saver = tf.train.Saver()\n",
    "        tf.add_to_collection('pred_network', y_pred)\n",
    "        tf.add_to_collection('AE_input',X)\n",
    "        saver.save(sess2,'../Masterarbeit/model_2st/model_2st')\n",
    "        print(\"Model saved\")\n",
    "        \n",
    "#             self supervised learning\n",
    "#             for j in range(len(testset['data'])):\n",
    "#             error.append(sess.run(tf.reduce_mean(tf.pow(testset['data'][j] - encode_decode[j], 2))))\n",
    "            \n",
    "\n",
    "    return lost, error\n",
    "#     examples_to_show = 14\n",
    "#     f, a = plt.subplots(2, examples_to_show, figsize=(examples_to_show, 2))\n",
    "#     for i in range(examples_to_show):\n",
    "#         print(testset['label'][i],sess.run(tf.reduce_mean(tf.pow(testset['data'][i] - encode_decode[i], 2))))\n",
    "#         a[0][i].imshow(np.reshape(testset['data'][i], (28, 28)))\n",
    "#         a[1][i].imshow(np.reshape(encode_decode[i], (28, 28)))\n",
    "#     f.show()\n",
    "#     plt.draw()\n",
    "#     plt.waitforbuttonpress()\n",
    "#         wf = open(filename,'a+')\n",
    "#         for i in range(len(encode_decode)):\n",
    "#             wf.write(str(one_class_label)+','+str(testset['label'][i])+','+str(sess.run(tf.reduce_mean(tf.pow(testset['data'][i] - encode_decode[i], 2))))+'\\n')\n",
    "#             if i % 500 == 0:\n",
    "#                 print(i)\n",
    "#         wf.close()"
   ]
  },
  {
   "cell_type": "code",
   "execution_count": 13,
   "metadata": {},
   "outputs": [],
   "source": [
    "def train(X_train,X_test):\n",
    "    trainset = {'data':X_train,'label':np.zeros(len(X_train))}\n",
    "    testset  = {'data':X_test,'label':np.zeros(len(X_test))}\n",
    "    lost,error = one_class_learning(trainset,testset)\n",
    "    return lost,error"
   ]
  },
  {
   "cell_type": "code",
   "execution_count": 14,
   "metadata": {},
   "outputs": [
    {
     "name": "stdout",
     "output_type": "stream",
     "text": [
      "WARNING:tensorflow:From c:\\users\\alienware\\anaconda3\\envs\\itiv\\lib\\site-packages\\tensorflow\\python\\framework\\op_def_library.py:263: colocate_with (from tensorflow.python.framework.ops) is deprecated and will be removed in a future version.\n",
      "Instructions for updating:\n",
      "Colocations handled automatically by placer.\n",
      "Epoch: 0001 cost= 0.233198300\n",
      "Epoch: 0002 cost= 0.230809882\n",
      "Epoch: 0003 cost= 0.225262374\n",
      "Epoch: 0004 cost= 0.212625474\n",
      "Epoch: 0005 cost= 0.187342554\n",
      "Epoch: 0006 cost= 0.155363023\n",
      "Epoch: 0007 cost= 0.133026361\n",
      "Epoch: 0008 cost= 0.115293190\n",
      "Epoch: 0009 cost= 0.091638625\n",
      "Epoch: 0010 cost= 0.051060393\n",
      "Epoch: 0011 cost= 0.038453877\n",
      "Epoch: 0012 cost= 0.035998590\n",
      "Epoch: 0013 cost= 0.035148758\n",
      "Epoch: 0014 cost= 0.033981908\n",
      "Epoch: 0015 cost= 0.032119669\n",
      "Epoch: 0016 cost= 0.029792452\n",
      "Epoch: 0017 cost= 0.027369350\n",
      "Epoch: 0018 cost= 0.025132611\n",
      "Epoch: 0019 cost= 0.023213333\n",
      "Epoch: 0020 cost= 0.021451550\n",
      "Epoch: 0021 cost= 0.018708255\n",
      "Epoch: 0022 cost= 0.014954174\n",
      "Epoch: 0023 cost= 0.013780010\n",
      "Epoch: 0024 cost= 0.013068248\n",
      "Epoch: 0025 cost= 0.012486195\n",
      "Epoch: 0026 cost= 0.012016850\n",
      "Epoch: 0027 cost= 0.011580626\n",
      "Epoch: 0028 cost= 0.011212792\n",
      "Epoch: 0029 cost= 0.010890268\n",
      "Epoch: 0030 cost= 0.010569109\n",
      "Epoch: 0031 cost= 0.010265076\n",
      "Epoch: 0032 cost= 0.009965491\n",
      "Epoch: 0033 cost= 0.009673592\n",
      "Epoch: 0034 cost= 0.009383650\n",
      "Epoch: 0035 cost= 0.009109345\n",
      "Epoch: 0036 cost= 0.008828796\n",
      "Epoch: 0037 cost= 0.008564540\n",
      "Epoch: 0038 cost= 0.008290824\n",
      "Epoch: 0039 cost= 0.008027802\n",
      "Epoch: 0040 cost= 0.007775447\n",
      "Epoch: 0041 cost= 0.007506981\n",
      "Epoch: 0042 cost= 0.007260459\n",
      "Epoch: 0043 cost= 0.007040792\n",
      "Epoch: 0044 cost= 0.006834001\n",
      "Epoch: 0045 cost= 0.006664934\n",
      "Epoch: 0046 cost= 0.006498460\n",
      "Epoch: 0047 cost= 0.006369314\n",
      "Epoch: 0048 cost= 0.006233532\n",
      "Epoch: 0049 cost= 0.006124928\n",
      "Epoch: 0050 cost= 0.006009645\n",
      "Epoch: 0051 cost= 0.005911552\n",
      "Epoch: 0052 cost= 0.005808568\n",
      "Epoch: 0053 cost= 0.005714011\n",
      "Epoch: 0054 cost= 0.005619355\n",
      "Epoch: 0055 cost= 0.005525637\n",
      "Epoch: 0056 cost= 0.005437230\n",
      "Epoch: 0057 cost= 0.005343229\n",
      "Epoch: 0058 cost= 0.005254867\n",
      "Epoch: 0059 cost= 0.005165522\n",
      "Epoch: 0060 cost= 0.005073331\n",
      "Epoch: 0061 cost= 0.004991866\n",
      "Epoch: 0062 cost= 0.004910000\n",
      "Epoch: 0063 cost= 0.004823868\n",
      "Epoch: 0064 cost= 0.004735548\n",
      "Epoch: 0065 cost= 0.004659447\n",
      "Epoch: 0066 cost= 0.004594804\n",
      "Epoch: 0067 cost= 0.004516110\n",
      "Epoch: 0068 cost= 0.004438276\n",
      "Epoch: 0069 cost= 0.004359949\n",
      "Epoch: 0070 cost= 0.004288896\n",
      "Epoch: 0071 cost= 0.004222577\n",
      "Epoch: 0072 cost= 0.004151070\n",
      "Epoch: 0073 cost= 0.004081612\n",
      "Epoch: 0074 cost= 0.004237267\n",
      "Epoch: 0075 cost= 0.004174185\n",
      "Epoch: 0076 cost= 0.004121650\n",
      "Epoch: 0077 cost= 0.004069894\n",
      "Epoch: 0078 cost= 0.004040481\n",
      "Epoch: 0079 cost= 0.004010233\n",
      "Epoch: 0080 cost= 0.003924830\n",
      "Epoch: 0081 cost= 0.003801876\n",
      "Epoch: 0082 cost= 0.003832758\n",
      "Epoch: 0083 cost= 0.003845994\n",
      "Epoch: 0084 cost= 0.003634690\n",
      "Epoch: 0085 cost= 0.003611387\n",
      "Epoch: 0086 cost= 0.003629885\n",
      "Epoch: 0087 cost= 0.003519336\n",
      "Epoch: 0088 cost= 0.003550801\n",
      "Epoch: 0089 cost= 0.003492270\n",
      "Epoch: 0090 cost= 0.003552542\n",
      "Epoch: 0091 cost= 0.003496473\n",
      "Epoch: 0092 cost= 0.003464352\n",
      "Epoch: 0093 cost= 0.003501446\n",
      "Epoch: 0094 cost= 0.003343470\n",
      "Epoch: 0095 cost= 0.003412393\n",
      "Epoch: 0096 cost= 0.003324353\n",
      "Epoch: 0097 cost= 0.003351189\n",
      "Epoch: 0098 cost= 0.003367922\n",
      "Epoch: 0099 cost= 0.003306423\n",
      "Epoch: 0100 cost= 0.003377258\n",
      "Epoch: 0101 cost= 0.003284275\n",
      "Epoch: 0102 cost= 0.003184075\n",
      "Epoch: 0103 cost= 0.003110735\n",
      "Epoch: 0104 cost= 0.003178320\n",
      "Epoch: 0105 cost= 0.003223384\n",
      "Epoch: 0106 cost= 0.003116028\n",
      "Epoch: 0107 cost= 0.003044936\n",
      "Epoch: 0108 cost= 0.003031976\n",
      "Epoch: 0109 cost= 0.002996586\n",
      "Epoch: 0110 cost= 0.003236521\n",
      "Epoch: 0111 cost= 0.003123911\n",
      "Epoch: 0112 cost= 0.002944354\n",
      "Epoch: 0113 cost= 0.002859512\n",
      "Epoch: 0114 cost= 0.003288716\n",
      "Epoch: 0115 cost= 0.003055819\n",
      "Epoch: 0116 cost= 0.002892958\n",
      "Epoch: 0117 cost= 0.002837756\n",
      "Epoch: 0118 cost= 0.002923662\n",
      "Epoch: 0119 cost= 0.002941399\n",
      "Epoch: 0120 cost= 0.002784161\n",
      "Epoch: 0121 cost= 0.002885083\n",
      "Epoch: 0122 cost= 0.002888468\n",
      "Epoch: 0123 cost= 0.002713356\n",
      "Epoch: 0124 cost= 0.002850175\n",
      "Epoch: 0125 cost= 0.002667102\n",
      "Epoch: 0126 cost= 0.002937310\n",
      "Epoch: 0127 cost= 0.002591096\n",
      "Epoch: 0128 cost= 0.002765958\n",
      "Epoch: 0129 cost= 0.002759041\n",
      "Epoch: 0130 cost= 0.002597687\n",
      "0.0 0.0020590447490034807\n",
      "0.0 0.006727866182449957\n"
     ]
    },
    {
     "name": "stderr",
     "output_type": "stream",
     "text": [
      "c:\\users\\alienware\\anaconda3\\envs\\itiv\\lib\\site-packages\\matplotlib\\figure.py:445: UserWarning: Matplotlib is currently using module://ipykernel.pylab.backend_inline, which is a non-GUI backend, so cannot show the figure.\n",
      "  % get_backend())\n"
     ]
    },
    {
     "name": "stdout",
     "output_type": "stream",
     "text": [
      "Model saved\n"
     ]
    },
    {
     "data": {
      "image/png": "[encoded data removed]",
      "text/plain": [
       "<Figure size 1008x1008 with 4 Axes>"
      ]
     },
     "metadata": {
      "needs_background": "light"
     },
     "output_type": "display_data"
    }
   ],
   "source": [
    "X_train2, X_test2 = train_test_split(normal2, test_size=0.1, random_state=920)\n",
    "lost2,error2 = train(X_train2, X_test2)"
   ]
  },
  {
   "cell_type": "code",
   "execution_count": null,
   "metadata": {},
   "outputs": [],
   "source": []
  }
 ],
 "metadata": {
  "kernelspec": {
   "display_name": "Python 3",
   "language": "python",
   "name": "python3"
  },
  "language_info": {
   "codemirror_mode": {
    "name": "ipython",
    "version": 3
   },
   "file_extension": ".py",
   "mimetype": "text/x-python",
   "name": "python",
   "nbconvert_exporter": "python",
   "pygments_lexer": "ipython3",
   "version": "3.6.8"
  }
 },
 "nbformat": 4,
 "nbformat_minor": 2
}
